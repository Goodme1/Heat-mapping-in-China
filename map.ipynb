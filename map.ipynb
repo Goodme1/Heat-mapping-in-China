{
 "cells": [
  {
   "cell_type": "code",
   "execution_count": 1,
   "metadata": {},
   "outputs": [
    {
     "name": "stdout",
     "output_type": "stream",
     "text": [
      "成功建立开发环境\n"
     ]
    }
   ],
   "source": [
    "# 导入相关库\n",
    "# jinyb 2023-4-7\n",
    "import numpy as np\n",
    "import pandas as pd\n",
    "import matplotlib.pyplot as plt\n",
    "import folium\n",
    "import seaborn as sns\n",
    "import warnings\n",
    "warnings.filterwarnings('ignore')\n",
    "print('成功建立开发环境')"
   ]
  },
  {
   "cell_type": "code",
   "execution_count": 2,
   "metadata": {},
   "outputs": [
    {
     "name": "stdout",
     "output_type": "stream",
     "text": [
      "  provinceName cityName  province_confirmedCount  province_suspectedCount  \\\n",
      "0          浙江省       温州                     1075                        0   \n",
      "1          浙江省       杭州                     1075                        0   \n",
      "2          浙江省       宁波                     1075                        0   \n",
      "3          浙江省       台州                     1075                        0   \n",
      "4          浙江省       金华                     1075                        0   \n",
      "\n",
      "   province_curedCount  province_deadCount  city_confirmedCount  \\\n",
      "0                  190                   0                  448   \n",
      "1                  190                   0                  165   \n",
      "2                  190                   0                  146   \n",
      "3                  190                   0                  138   \n",
      "4                  190                   0                   53   \n",
      "\n",
      "   city_suspectedCount  city_curedCount  city_deadCount  \\\n",
      "0                    0               71               0   \n",
      "1                    0               41               0   \n",
      "2                    0               13               0   \n",
      "3                    0               27               0   \n",
      "4                    0               13               0   \n",
      "\n",
      "                updateTime  \n",
      "0  2020-02-09 15:37:28.105  \n",
      "1  2020-02-09 15:37:28.105  \n",
      "2  2020-02-09 15:37:28.105  \n",
      "3  2020-02-09 15:37:28.105  \n",
      "4  2020-02-09 15:37:28.105  \n"
     ]
    }
   ],
   "source": [
    "# 借助folium库绘制中国地区疫情热力图\n",
    "# 读取数据\n",
    "df = pd.read_csv('DXYArea.csv')\n",
    "print(df.head())"
   ]
  },
  {
   "cell_type": "code",
   "execution_count": 3,
   "metadata": {},
   "outputs": [
    {
     "name": "stdout",
     "output_type": "stream",
     "text": [
      "  provinceName  province_confirmedCount\n",
      "0          上海市                      293\n",
      "1          云南省                      140\n",
      "2       内蒙古自治区                       54\n",
      "3          北京市                      326\n",
      "4          吉林省                       78\n"
     ]
    }
   ],
   "source": [
    "# 按照省分统计人数\n",
    "df = df.groupby('provinceName').province_confirmedCount.agg('max').reset_index()\n",
    "print(df.head())"
   ]
  },
  {
   "cell_type": "code",
   "execution_count": 4,
   "metadata": {},
   "outputs": [
    {
     "name": "stdout",
     "output_type": "stream",
     "text": [
      "   postcode city         lat        lon\n",
      "0    110000  北京市  116.395645  39.929986\n",
      "1    110101  东城区  113.612838  37.857865\n",
      "2    110102  西城区  113.612838  37.857865\n",
      "3    110105  朝阳区  116.521695  39.958953\n",
      "4    110106  丰台区  116.258370  39.841938\n"
     ]
    }
   ],
   "source": [
    "# 读取各城市坐标数据，并给每一列命名，分别为postcode、city、lat、lon\n",
    "df_city = pd.read_csv('china_coordinates.csv', names=['postcode', 'city', 'lat', 'lon'])\n",
    "print(df_city.head())"
   ]
  },
  {
   "cell_type": "code",
   "execution_count": 5,
   "metadata": {},
   "outputs": [
    {
     "name": "stdout",
     "output_type": "stream",
     "text": [
      "   postcode city         lat        lon  confirm\n",
      "0    110000  北京市  116.395645  39.929986    326.0\n",
      "1    110101  东城区  113.612838  37.857865      NaN\n",
      "2    110102  西城区  113.612838  37.857865      NaN\n",
      "3    110105  朝阳区  116.521695  39.958953      NaN\n",
      "4    110106  丰台区  116.258370  39.841938      NaN\n"
     ]
    }
   ],
   "source": [
    "# 合并城市坐标数据与疫情确诊数据\n",
    "df_city['confirm'] = df_city['city'].map(df.set_index('provinceName')['province_confirmedCount'])\n",
    "print(df_city.head())"
   ]
  },
  {
   "cell_type": "code",
   "execution_count": 6,
   "metadata": {},
   "outputs": [
    {
     "name": "stdout",
     "output_type": "stream",
     "text": [
      "   postcode    city         lat        lon  confirm\n",
      "0    110000     北京市  116.395645  39.929986    326.0\n",
      "1    120000     天津市  117.210813  39.143930     90.0\n",
      "2    130000     河北省  115.661434  38.613840    206.0\n",
      "3    140000     山西省  112.515496  37.866566    115.0\n",
      "4    150000  内蒙古自治区  114.415868  43.468238     54.0\n"
     ]
    }
   ],
   "source": [
    "# 去掉空值\n",
    "df_city = df_city.dropna()\n",
    "# 重新设置索引\n",
    "df_city = df_city.reset_index(drop=True)\n",
    "print(df_city.head())"
   ]
  },
  {
   "cell_type": "code",
   "execution_count": 7,
   "metadata": {},
   "outputs": [
    {
     "data": {
      "text/plain": [
       "<folium.features.Choropleth at 0x1aff1583be0>"
      ]
     },
     "execution_count": 7,
     "metadata": {},
     "output_type": "execute_result"
    }
   ],
   "source": [
    "# folium\n",
    "map = folium.Map(location = [39.929986, 116.395645], zoom_start = 4)\n",
    "\n",
    "df_city['logconfirm'] = np.log(df_city['confirm'])\n",
    "folium.Choropleth(\n",
    "    name= '疫情热图',\n",
    "    geo_data=open('100000_full.json',encoding = 'utf-8').read(),\n",
    "    data = df_city.set_index(df_city.city),\n",
    "    columns = ['city', 'logconfirm'],\n",
    "    key_on = 'feature.properties.name',\n",
    "    fill_color = 'Reds',\n",
    ").add_to(map)"
   ]
  },
  {
   "cell_type": "code",
   "execution_count": 8,
   "metadata": {},
   "outputs": [],
   "source": [
    "# 为地图添加标记，并显示经纬度信息\n",
    "for i in range(len(df_city)):\n",
    "    folium.Marker(\n",
    "        location = [df_city.iloc[i]['lon'], df_city.iloc[i]['lat']],\n",
    "        popup = df_city.iloc[i]['city'] + '：' + str(df_city.iloc[i]['confirm']),\n",
    "        icon = folium.Icon(color = 'red', icon = 'info-sign')\n",
    "    ).add_to(map)\n",
    "map\n",
    "# 保存地图\n",
    "map.save('map.html')"
   ]
  },
  {
   "cell_type": "code",
   "execution_count": 9,
   "metadata": {},
   "outputs": [],
   "source": [
    "# jinyb 2023-4-7"
   ]
  }
 ],
 "metadata": {
  "kernelspec": {
   "display_name": "base",
   "language": "python",
   "name": "python3"
  },
  "language_info": {
   "codemirror_mode": {
    "name": "ipython",
    "version": 3
   },
   "file_extension": ".py",
   "mimetype": "text/x-python",
   "name": "python",
   "nbconvert_exporter": "python",
   "pygments_lexer": "ipython3",
   "version": "3.9.7"
  },
  "orig_nbformat": 4,
  "vscode": {
   "interpreter": {
    "hash": "ef722dc6614701428bd23ed4d6968303795b1faec751061bafcb099d975007a3"
   }
  }
 },
 "nbformat": 4,
 "nbformat_minor": 2
}
